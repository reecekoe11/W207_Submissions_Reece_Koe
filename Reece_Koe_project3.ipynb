{
 "cells": [
  {
   "cell_type": "markdown",
   "metadata": {
    "id": "rWAjdfIsTyhI"
   },
   "source": [
    "# Project 3: Topic Classification using Naive Bayes\n",
    "\n",
    "**Solution**"
   ]
  },
  {
   "cell_type": "markdown",
   "metadata": {
    "id": "p0KwRzrQTyhL"
   },
   "source": [
    "# Intro\n",
    "---\n",
    "In this project, you'll work with text data from newsgroup posts on a variety of topics. You'll train classifiers to distinguish posts by topics inferred from the text. Whereas with digit classification, where each input is relatively **dense** (represented as a 28x28 matrix of pixels, many of which are non-zero), here each document is relatively **sparse** (represented as a **bag-of-words**). Only a few words of the total vocabulary are active in any given document. The assumption is that a label depends only on the count of words, not their order.\n",
    "\n",
    "The `sklearn` documentation on feature extraction may be useful:\n",
    "http://scikit-learn.org/stable/modules/feature_extraction.html\n",
    "\n",
    "Each problem can be addressed succinctly with the included packages -- please don't add any more. Grading will be based on writing clean, commented code, along with a few short answers.\n",
    "\n",
    "As always, you're welcome to work on the project in groups and discuss ideas on Slack, but <b> please prepare your own write-up with your own code. </b>\n",
    "\n",
    "## Grading\n",
    "---\n",
    "- Make sure to answer every part in every question.\n",
    " - There are 7 questions and one extra credit question. \n",
    " - Read carefully what is asked including the notes.\n",
    " - Additional points may be deducted if:\n",
    "   - the code is not clean and well commented, \n",
    "   - and if the functions or answers are too long.\n",
    "\n",
    " ## Requirements:\n",
    "---\n",
    "1. Comment your code.\n",
    "1. All graphs should have titles, label for each axis, and if needed a legend. It should be understandable on its own.\n",
    "1. All code must run on colab.research.google.com\n",
    "1. You should not import any additional libraries.\n",
    "1. Try and minimize the use of the global namespace (meaning keep things in functions).\n",
    "\n"
   ]
  },
  {
   "cell_type": "code",
   "execution_count": 1,
   "metadata": {
    "id": "QNNjknnZTyhN"
   },
   "outputs": [],
   "source": [
    "# This tells matplotlib not to try opening a new window for each plot.\n",
    "%matplotlib inline\n",
    "\n",
    "# General libraries.\n",
    "import re\n",
    "import numpy as np\n",
    "import pandas as pd\n",
    "import matplotlib.pyplot as plt\n",
    "\n",
    "# SK-learn libraries for learning.\n",
    "from sklearn.pipeline import Pipeline\n",
    "from sklearn.neighbors import KNeighborsClassifier\n",
    "from sklearn.linear_model import LogisticRegression\n",
    "from sklearn.naive_bayes import BernoulliNB\n",
    "from sklearn.naive_bayes import MultinomialNB\n",
    "\n",
    "# SK-learn libraries for evaluation.\n",
    "from sklearn.metrics import confusion_matrix\n",
    "from sklearn import metrics\n",
    "from sklearn.metrics import classification_report\n",
    "\n",
    "# SK-learn library for importing the newsgroup data.\n",
    "from sklearn.datasets import fetch_20newsgroups\n",
    "\n",
    "# SK-learn libraries for feature extraction from text.\n",
    "from sklearn.feature_extraction.text import *\n",
    "\n",
    "import nltk"
   ]
  },
  {
   "cell_type": "markdown",
   "metadata": {
    "id": "orEWeRJaTyhO"
   },
   "source": [
    "Load the data, stripping out metadata so that only textual features will be used, and restricting documents to 4 specific topics. By default, newsgroups data is split into training and test sets, but here the test set gets further split into development and test sets.  (If you remove the categories argument from the fetch function calls, you'd get documents from all 20 topics.)"
   ]
  },
  {
   "cell_type": "code",
   "execution_count": 2,
   "metadata": {
    "id": "5b9J-D5DTyhP"
   },
   "outputs": [
    {
     "name": "stdout",
     "output_type": "stream",
     "text": [
      "training label shape: (2034,)\n",
      "dev label shape: (676,)\n",
      "test label shape: (677,)\n",
      "labels names: ['alt.atheism', 'comp.graphics', 'sci.space', 'talk.religion.misc']\n"
     ]
    }
   ],
   "source": [
    "categories = ['alt.atheism', 'talk.religion.misc', 'comp.graphics', 'sci.space']\n",
    "newsgroups_train = fetch_20newsgroups(subset='train',\n",
    "                                      remove=('headers', 'footers', 'quotes'),\n",
    "                                      categories=categories)\n",
    "newsgroups_test  = fetch_20newsgroups(subset='test',\n",
    "                                      remove=('headers', 'footers', 'quotes'),\n",
    "                                      categories=categories)\n",
    "\n",
    "num_test = int(len(newsgroups_test.target) / 2)\n",
    "test_data, test_labels   = newsgroups_test.data[num_test:], newsgroups_test.target[num_test:]\n",
    "dev_data, dev_labels     = newsgroups_test.data[:num_test], newsgroups_test.target[:num_test]\n",
    "train_data, train_labels = newsgroups_train.data, newsgroups_train.target\n",
    "\n",
    "print('training label shape:', train_labels.shape)\n",
    "print('dev label shape:',      dev_labels.shape)\n",
    "print('test label shape:',     test_labels.shape)\n",
    "print('labels names:',         newsgroups_train.target_names)"
   ]
  },
  {
   "cell_type": "markdown",
   "metadata": {
    "id": "zOS6IyT0TyhR"
   },
   "source": [
    "### Question 1: Examining your data\n",
    "---\n",
    "\n",
    " 1. For each of the first 5 training examples, print the text of the message along with the label (checkout newsgroups_train.target_names)."
   ]
  },
  {
   "cell_type": "code",
   "execution_count": 3,
   "metadata": {
    "id": "LFFUipfaTyhS"
   },
   "outputs": [
    {
     "name": "stdout",
     "output_type": "stream",
     "text": [
      "Example #1\n",
      "\n",
      "Message:  Hi,\n",
      "\n",
      "I've noticed that if you only save a model (with all your mapping planes\n",
      "positioned carefully) to a .3DS file that when you reload it after restarting\n",
      "3DS, they are given a default position and orientation.  But if you save\n",
      "to a .PRJ file their positions/orientation are preserved.  Does anyone\n",
      "know why this information is not stored in the .3DS file?  Nothing is\n",
      "explicitly said in the manual about saving texture rules in the .PRJ file. \n",
      "I'd like to be able to read the texture rule information, does anyone have \n",
      "the format for the .PRJ file?\n",
      "\n",
      "Is the .CEL file format available from somewhere?\n",
      "\n",
      "Rych\n",
      "\n",
      "Label: comp.graphics\n",
      "--------------------------------------------------\n",
      "Example #2\n",
      "\n",
      "Message:  \n",
      "\n",
      "Seems to be, barring evidence to the contrary, that Koresh was simply\n",
      "another deranged fanatic who thought it neccessary to take a whole bunch of\n",
      "folks with him, children and all, to satisfy his delusional mania. Jim\n",
      "Jones, circa 1993.\n",
      "\n",
      "\n",
      "Nope - fruitcakes like Koresh have been demonstrating such evil corruption\n",
      "for centuries.\n",
      "\n",
      "Label: talk.religion.misc\n",
      "--------------------------------------------------\n",
      "Example #3\n",
      "\n",
      "Message:  \n",
      " >In article <1993Apr19.020359.26996@sq.sq.com>, msb@sq.sq.com (Mark Brader) \n",
      "\n",
      "MB>                                                             So the\n",
      "MB> 1970 figure seems unlikely to actually be anything but a perijove.\n",
      "\n",
      "JG>Sorry, _perijoves_...I'm not used to talking this language.\n",
      "\n",
      "Couldn't we just say periapsis or apoapsis?\n",
      "\n",
      " \n",
      "\n",
      "Label: sci.space\n",
      "--------------------------------------------------\n",
      "Example #4\n",
      "\n",
      "Message:  I have a request for those who would like to see Charley Wingate\n",
      "respond to the \"Charley Challenges\" (and judging from my e-mail, there\n",
      "appear to be quite a few of you.)  \n",
      "\n",
      "It is clear that Mr. Wingate intends to continue to post tangential or\n",
      "unrelated articles while ingoring the Challenges themselves.  Between\n",
      "the last two re-postings of the Challenges, I noted perhaps a dozen or\n",
      "more posts by Mr. Wingate, none of which answered a single Challenge.  \n",
      "\n",
      "It seems unmistakable to me that Mr. Wingate hopes that the questions\n",
      "will just go away, and he is doing his level best to change the\n",
      "subject.  Given that this seems a rather common net.theist tactic, I\n",
      "would like to suggest that we impress upon him our desire for answers,\n",
      "in the following manner:\n",
      "\n",
      "1. Ignore any future articles by Mr. Wingate that do not address the\n",
      "Challenges, until he answers them or explictly announces that he\n",
      "refuses to do so.\n",
      "\n",
      "--or--\n",
      "\n",
      "2. If you must respond to one of his articles, include within it\n",
      "something similar to the following:\n",
      "\n",
      "    \"Please answer the questions posed to you in the Charley Challenges.\"\n",
      "\n",
      "Really, I'm not looking to humiliate anyone here, I just want some\n",
      "honest answers.  You wouldn't think that honesty would be too much to\n",
      "ask from a devout Christian, would you?  \n",
      "\n",
      "Nevermind, that was a rhetorical question.\n",
      "\n",
      "Label: alt.atheism\n",
      "--------------------------------------------------\n",
      "Example #5\n",
      "\n",
      "Message:  AW&ST  had a brief blurb on a Manned Lunar Exploration confernce\n",
      "May 7th  at Crystal City Virginia, under the auspices of AIAA.\n",
      "\n",
      "Does anyone know more about this?  How much, to attend????\n",
      "\n",
      "Anyone want to go?\n",
      "\n",
      "Label: sci.space\n",
      "--------------------------------------------------\n"
     ]
    }
   ],
   "source": [
    "def Q1(num_examples=5):\n",
    "    ### STUDENT START ###\n",
    "    for k in range(num_examples):\n",
    "        print(f\"Example #{k+1}\")\n",
    "        print(\"\\nMessage: \", train_data[k])\n",
    "        print(\"\\nLabel:\", newsgroups_train.target_names[train_labels[k]])\n",
    "        print(\"-\"*50)\n",
    "    ### STUDENT END ###\n",
    "\n",
    "Q1(5)"
   ]
  },
  {
   "cell_type": "markdown",
   "metadata": {
    "id": "r53zpu-mTyhU"
   },
   "source": [
    "### Question 2: Text representation\n",
    "---\n",
    "\n",
    "1. Transform the training data into a matrix of **word** unigram feature vectors.\n",
    "  1. What is the size of the vocabulary? \n",
    "  1. What is the average number of non-zero features per example?  \n",
    "  1. What is the fraction of the non-zero entries in the matrix?  \n",
    "  1. What are the 0th and last feature strings (in alphabetical order)?\n",
    "  - _Use `CountVectorization` and its `.fit_transform` method.  Use `.nnz` and `.shape` attributes, and `.get_feature_names` method._\n",
    "1. Now transform the training data into a matrix of **word** unigram feature vectors restricting to the vocabulary with these 4 words: [\"atheism\", \"graphics\", \"space\", \"religion\"].  Confirm the size of the vocabulary. \n",
    "  1. What is the average number of non-zero features per example?\n",
    "  - _Use `CountVectorization(vocabulary=...)` and its `.transform` method._\n",
    "1. Now transform the training data into a matrix of **character** bigram and trigram feature vectors.  \n",
    "  1. What is the size of the vocabulary?\n",
    "  - _Use `CountVectorization(analyzer=..., ngram_range=...)` and its `.fit_transform` method._\n",
    "1. Now transform the training data into a matrix of **word** unigram feature vectors and prune words that appear in fewer than 10 documents.  \n",
    "  1. What is the size of the vocabulary?<br/>\n",
    "  - _Use `CountVectorization(min_df=...)` and its `.fit_transform` method._\n",
    "1. Now again transform the training data into a matrix of **word** unigram feature vectors. \n",
    " 1. What is the fraction of words in the development vocabulary that is missing from the training vocabulary?\n",
    " - _Hint: Build vocabularies for both train and dev and look at the size of the difference._\n",
    "\n",
    "Notes:\n",
    "* `.fit_transform` makes 2 passes through the data: first it computes the vocabulary (\"fit\"), second it converts the raw text into feature vectors using the vocabulary (\"transform\").\n",
    "* `.fit_transform` and `.transform` return sparse matrix objects.  See about them at http://docs.scipy.org/doc/scipy-0.14.0/reference/generated/scipy.sparse.csr_matrix.html. "
   ]
  },
  {
   "cell_type": "code",
   "execution_count": 4,
   "metadata": {
    "id": "_xkWZwBVTyhV"
   },
   "outputs": [
    {
     "name": "stdout",
     "output_type": "stream",
     "text": [
      "Size of vocabulary is 26879\n",
      "Average number of non-zero features per example: 96.71\n",
      "Fraction of number of non-zero entries in the matrix: 196700/54671886\n",
      "First feature: 00\n",
      "Last feature: zyxel\n",
      "Size of vocabulary with set vocab is 4\n",
      "Size of vocabulary with characters is 35478\n",
      "Size of vocabulary with pruning is 3064\n",
      "Dev vocab is missing 10633/26879 of the training vocabulary\n"
     ]
    }
   ],
   "source": [
    "def Q2():\n",
    "    ### STUDENT START ###\n",
    "    vectorizer = CountVectorizer()\n",
    "    X = vectorizer.fit_transform(train_data)\n",
    "    print(f\"Size of vocabulary is {X.shape[1]}\")\n",
    "    print(f\"Average number of non-zero features per example: {X.nnz/X.shape[0]:.2f}\")\n",
    "    print(f\"Fraction of number of non-zero entries in the matrix: {X.nnz}/{(X.shape[0]*X.shape[1])}\")\n",
    "    print(f\"First feature: {vectorizer.get_feature_names()[0]}\")\n",
    "    print(f\"Last feature: {vectorizer.get_feature_names()[-1]}\")\n",
    "    \n",
    "    vectorizer_with_vocab = CountVectorizer(vocabulary=[\"atheism\", \"graphics\", \"space\", \"religion\"])\n",
    "    X2 = vectorizer_with_vocab.transform(train_data)\n",
    "    print(f\"Size of vocabulary with set vocab is {X2.shape[1]}\")\n",
    "    \n",
    "    vectorizer_with_ngram = CountVectorizer(analyzer='char', ngram_range=(2,3))\n",
    "    X3 = vectorizer_with_ngram.fit_transform(train_data)\n",
    "    print(f\"Size of vocabulary with characters is {X3.shape[1]}\")\n",
    "    \n",
    "    vectorizer_with_prune = CountVectorizer(min_df=10)\n",
    "    X4 = vectorizer_with_prune.fit_transform(train_data)\n",
    "    print(f\"Size of vocabulary with pruning is {X4.shape[1]}\")\n",
    "    \n",
    "    vectorizer_train = CountVectorizer()\n",
    "    vectorizer_dev =  CountVectorizer()\n",
    "    X_train = vectorizer_train.fit_transform(train_data)\n",
    "    X_dev = vectorizer_dev.fit_transform(dev_data)\n",
    "    print(f\"Dev vocab is missing {X_train.shape[1] - X_dev.shape[1]}/{X_train.shape[1]} of the training vocabulary\")\n",
    "    ### STUDENT END ###\n",
    "\n",
    "Q2()"
   ]
  },
  {
   "cell_type": "markdown",
   "metadata": {
    "id": "dIaSTL9OTyhX"
   },
   "source": [
    "### Question 3: Initial model evaluation\n",
    "---\n",
    "\n",
    "1. Transform the training and development data to matrices of word unigram feature vectors.\n",
    "1. Produce several k-Nearest Neigbors models by varying k, including one with k set to optimize f1 score.  For each model, show the k value and f1 score. \n",
    "1. Produce several Naive Bayes models by varying smoothing (alpha), including one with alpha set approximately to optimize f1 score.  For each model, show the alpha value and f1 score.\n",
    "1. Produce several Logistic Regression models by varying L2 regularization strength (C), including one with C set approximately to optimize f1 score.  For each model, show the C value, f1 score, and sum of squared weights for each topic.\n",
    "1. Why doesn't k-Nearest Neighbors work well for this problem?\n",
    "1. Why doesn't Logistic Regression work as well as Naive Bayes does?\n",
    "1. What is the relationship between logistic regression's sum of squared weights vs. C value?\n",
    "\n",
    "Notes:\n",
    "* Train on the transformed training data.\n",
    "* Evaluate on the transformed development data.\n",
    "* You can use `CountVectorizer` and its `.fit_transform` and `.transform` methods to transform data.\n",
    "* You can use `KNeighborsClassifier(...)` to produce a k-Nearest Neighbors model.\n",
    "* You can use `MultinomialNB(...)` to produce a Naive Bayes model.\n",
    "* You can use `LogisticRegression(C=..., solver=\"liblinear\", multi_class=\"auto\")` to produce a Logistic Regression model.\n",
    "* You can use `LogisticRegression`'s `.coef_` method to get weights for each topic.\n",
    "* You can use `metrics.f1_score(..., average=\"weighted\")` to compute f1 score."
   ]
  },
  {
   "cell_type": "code",
   "execution_count": 5,
   "metadata": {
    "id": "g9JvhGBRTyhX"
   },
   "outputs": [
    {
     "name": "stdout",
     "output_type": "stream",
     "text": [
      "K Nearest Neighbors Models\n",
      "k=  1 has f1_score of 38.05%\n",
      "k=  2 has f1_score of 38.05%\n",
      "k=  3 has f1_score of 40.84%\n",
      "k=  4 has f1_score of 40.31%\n",
      "k=  5 has f1_score of 42.88%\n",
      "k=  6 has f1_score of 44.67%\n",
      "k=  7 has f1_score of 45.05%\n",
      "k=  8 has f1_score of 44.70%\n",
      "k=  9 has f1_score of 43.66%\n",
      "k= 10 has f1_score of 42.79%\n",
      "k= 11 has f1_score of 42.66%\n",
      "k= 12 has f1_score of 42.11%\n",
      "k= 13 has f1_score of 42.40%\n",
      "k= 14 has f1_score of 42.24%\n",
      "k= 15 has f1_score of 43.26%\n",
      "k= 16 has f1_score of 43.44%\n",
      "k= 17 has f1_score of 44.86%\n",
      "k= 18 has f1_score of 43.19%\n",
      "k= 19 has f1_score of 43.66%\n",
      "k= 20 has f1_score of 42.43%\n",
      "Optimal k is 7\n",
      "\n",
      "Naive Bayes Models\n",
      "alpha =  1e-10 has f1_score of 74.72%\n",
      "alpha = 0.0001 has f1_score of 76.28%\n",
      "alpha =  0.001 has f1_score of 77.03%\n",
      "alpha =   0.01 has f1_score of 77.52%\n",
      "alpha =    0.1 has f1_score of 79.03%\n",
      "alpha =    0.5 has f1_score of 78.63%\n",
      "alpha =    1.0 has f1_score of 77.77%\n",
      "alpha =    2.0 has f1_score of 76.90%\n",
      "alpha =   10.0 has f1_score of 66.75%\n",
      "Optimal alpha is 0.1\n",
      "\n",
      "Logistic Regression Models\n",
      "C=1e-10 has f1_score of 20.64%\n",
      "Sum of squared weights for each topic are 0.00 0.00 0.00 0.00\n",
      "\n",
      "C=0.0001 has f1_score of 54.16%\n",
      "Sum of squared weights for each topic are 0.01 0.01 0.01 0.01\n",
      "\n",
      "C=0.001 has f1_score of 61.93%\n",
      "Sum of squared weights for each topic are 0.17 0.20 0.18 0.19\n",
      "\n",
      "C=0.01 has f1_score of 66.47%\n",
      "Sum of squared weights for each topic are 2.54 2.94 2.86 2.25\n",
      "\n",
      "C=0.1 has f1_score of 69.66%\n",
      "Sum of squared weights for each topic are 27.13 24.66 27.46 23.03\n",
      "\n",
      "C=0.5 has f1_score of 71.01%\n",
      "Sum of squared weights for each topic are 102.59 83.12 99.04 89.01\n",
      "\n",
      "C=1.0 has f1_score of 69.61%\n",
      "Sum of squared weights for each topic are 166.98 130.91 157.94 145.74\n",
      "\n",
      "C=2.0 has f1_score of 69.40%\n",
      "Sum of squared weights for each topic are 257.54 197.88 239.97 226.56\n",
      "\n",
      "C=10.0 has f1_score of 68.65%\n",
      "Sum of squared weights for each topic are 586.14 448.14 539.25 530.94\n",
      "\n",
      "Optimal C is 0.5\n"
     ]
    }
   ],
   "source": [
    "def Q3():\n",
    "    ### STUDENT START ###\n",
    "    vectorizer = CountVectorizer()\n",
    "    train_transformed = vectorizer.fit_transform(train_data)\n",
    "    dev_transformed = vectorizer.transform(dev_data)\n",
    "    print(\"K Nearest Neighbors Models\")\n",
    "    num_knn_models = 20\n",
    "    for k in range(1,num_knn_models + 1):\n",
    "        model = KNeighborsClassifier(n_neighbors=k)\n",
    "        model.fit(train_transformed, train_labels)\n",
    "        predicted_labels = model.predict(dev_transformed) \n",
    "\n",
    "        f1_score = metrics.f1_score(dev_labels, predicted_labels, average=\"weighted\")\n",
    "        print(f\"k={k:3} has f1_score of {f1_score*100:.2f}%\")\n",
    "    print(\"Optimal k is 7\")\n",
    "    \n",
    "    print(\"\\nNaive Bayes Models\")\n",
    "    alphas = [1.0e-10, 0.0001, 0.001, 0.01, 0.1, 0.5, 1.0, 2.0, 10.0]\n",
    "    for alpha_test in alphas:\n",
    "        model = MultinomialNB(alpha=alpha_test)\n",
    "        model.fit(train_transformed, train_labels)\n",
    "        predicted_labels = model.predict(dev_transformed) \n",
    "        f1_score = metrics.f1_score(dev_labels, predicted_labels, average=\"weighted\")\n",
    "        print(f\"alpha = {alpha_test:6} has f1_score of {f1_score*100:.2f}%\")\n",
    "\n",
    "    print(\"Optimal alpha is 0.1\")\n",
    "    \n",
    "    print(\"\\nLogistic Regression Models\")\n",
    "    C_values = [1.0e-10, 0.0001, 0.001, 0.01, 0.1, 0.5, 1.0, 2.0, 10.0]\n",
    "    for C_val in C_values:\n",
    "        model = LogisticRegression(C=C_val, solver=\"liblinear\", multi_class=\"auto\")\n",
    "        model.fit(train_transformed, train_labels)\n",
    "        predicted_labels = model.predict(dev_transformed) \n",
    "\n",
    "        f1_score = metrics.f1_score(dev_labels, predicted_labels, average=\"weighted\")\n",
    "        weights = model.coef_\n",
    "        ssw = np.sum(weights**2,axis=1)\n",
    "        print(f\"C={C_val:3} has f1_score of {f1_score*100:.2f}%\")\n",
    "        print(f\"Sum of squared weights for each topic are {ssw[0]:.2f} {ssw[1]:.2f} {ssw[2]:.2f} {ssw[3]:.2f}\\n\")\n",
    "    print(\"Optimal C is 0.5\")\n",
    "    \n",
    "    ### STUDENT END ###\n",
    "\n",
    "Q3()"
   ]
  },
  {
   "cell_type": "markdown",
   "metadata": {
    "id": "1K9kU5AETyhY"
   },
   "source": [
    "ANSWER: k-Nearesest Neighbors doesn't work well for this problem because it is hard to cluster the observations with a feature space that is so large.\n",
    "\n",
    "Logistic Regression doesn't work as well as Naive Bayes because NB sets its weights independently for each feature while logistic regression sets all of its weights together. Because the model has to fit to a large feature space, naive bayes is more accurate in its predictions.\n",
    "\n",
    "The relationship between logistic regression's sum of squared weights and C value is proportional. The higher the C value, the larger the sum of squared weights. "
   ]
  },
  {
   "cell_type": "markdown",
   "metadata": {
    "id": "b46HltEPTyhY"
   },
   "source": [
    "### Question 4: Feature exploration\n",
    "---\n",
    "\n",
    "1. Transform the data to a matrix of word **bigram** feature vectors.  Produce a Logistic Regression model.\n",
    "1. For each topic, find the 5 features with the largest weights (not absolute value). If there are no overlaps, you can expect 20 features in total.\n",
    "1. Show a 20 row (features) x 4 column (topics) table of the weights. So, for each of the features (words) found, we show their weight for all topics.\n",
    "1. Do you see any surprising features in this table?\n",
    "\n",
    "Notes:\n",
    "* Train on the transformed training data.\n",
    "* You can use `CountVectorizer` and its `.fit_transform` method to transform data.\n",
    "* You can use `LogisticRegression(C=0.5, solver=\"liblinear\", multi_class=\"auto\")` to produce a Logistic Regression model.\n",
    "* You can use `LogisticRegression`'s `.coef_` method to get weights for each topic.\n",
    "* You can use `np.argsort` to get indices sorted by element value. \n"
   ]
  },
  {
   "cell_type": "code",
   "execution_count": 6,
   "metadata": {
    "id": "DerfvONsTyha"
   },
   "outputs": [
    {
     "name": "stdout",
     "output_type": "stream",
     "text": [
      "Feature            Alt Weight     Talk Weight     Comp Weight      Sci Weight\n",
      "-----------------------------------------------------------------------------\n",
      "are you               0.44695        -0.24826        -0.09717        -0.30562\n",
      "you are               0.47274        -0.27991        -0.48143         0.02837\n",
      "was just              0.48205        -0.13142        -0.12886        -0.22746\n",
      "cheers kent           0.55572        -0.69790        -0.66378         0.53481\n",
      "claim that            0.60555        -0.19904        -0.27438        -0.14037\n",
      "is there             -0.34088         0.75498        -0.46825        -0.25708\n",
      "out there            -0.27480         0.75868        -0.47900        -0.27709\n",
      "comp graphics        -0.29217         0.80120        -0.37092        -0.28518\n",
      "in advance           -0.45935         0.83257        -0.43849        -0.41845\n",
      "looking for          -0.63034         1.10837        -0.49993        -0.57186\n",
      "it was               -0.20303        -0.30966         0.52534        -0.31355\n",
      "and such             -0.20427        -0.33752         0.59056        -0.21820\n",
      "sci space            -0.25801        -0.32915         0.62113        -0.22125\n",
      "the moon             -0.35056        -0.49272         0.83124        -0.21379\n",
      "the space            -0.26819        -0.53009         0.87116        -0.27384\n",
      "of jesus             -0.09191        -0.17376        -0.21240         0.42376\n",
      "but he               -0.19002        -0.21687        -0.13737         0.49187\n",
      "ignorance is         -0.15801        -0.17107        -0.13958         0.50431\n",
      "the fbi              -0.13197        -0.21134        -0.29532         0.55200\n"
     ]
    }
   ],
   "source": [
    "def Q4():\n",
    "    ### STUDENT START ###\n",
    "    vectorizer = CountVectorizer(analyzer='word', ngram_range=(2,2))\n",
    "    X = vectorizer.fit_transform(train_data)\n",
    "    model = LogisticRegression(C=0.5, solver=\"liblinear\", multi_class=\"auto\")\n",
    "    model.fit(X, train_labels)\n",
    "    topics = ['alt.atheism', 'talk.religion.misc', 'comp.graphics', 'sci.space']\n",
    "    full_feature_list = []\n",
    "    final_feature_list = []\n",
    "\n",
    "    for count, topic in enumerate(topics):\n",
    "        topic_feature_list = []\n",
    "        sorted_labels = np.argsort(model.coef_[count])\n",
    "        ind = sorted_labels[-5:]\n",
    "        topic_feature_list = [vectorizer.get_feature_names()[k] for k in ind]\n",
    "        for val in topic_feature_list:\n",
    "            full_feature_list.append(val)\n",
    "\n",
    "    final_feature_list = []\n",
    "    for val in full_feature_list:\n",
    "        if val not in final_feature_list:\n",
    "            final_feature_list.append(val)\n",
    "\n",
    "    full_feature_list_with_ceof = []\n",
    "    for feature in final_feature_list:\n",
    "        feature_ind = vectorizer.vocabulary_[feature]\n",
    "        coef_list = model.coef_[:,feature_ind].tolist()\n",
    "        feature_list = [feature]\n",
    "        feature_list.extend(coef_list)\n",
    "        full_feature_list_with_ceof.append(feature_list)\n",
    "    \n",
    "    print (\"{:<13} {:>15} {:>15} {:>15} {:>15}\".format('Feature','Alt Weight','Talk Weight', 'Comp Weight', 'Sci Weight'))\n",
    "    print(\"-\"*77)\n",
    "    for feat in full_feature_list_with_ceof:\n",
    "        feature, coef_alt, coef_talk, coef_comp, coef_sci = feat\n",
    "        print(\"{:<13} {:15.5f} {:15.5f} {:15.5f} {:15.5f}\".format(feature, coef_alt, coef_talk, coef_comp, coef_sci))\n",
    "    ### STUDENT END ###\n",
    "\n",
    "Q4()"
   ]
  },
  {
   "cell_type": "markdown",
   "metadata": {
    "id": "odPhAx_yTyhb"
   },
   "source": [
    "ANSWER: The most surprising features in this table are the ones that are very broad and non-descriptive. Many of the features seem like they are terms that are used in many different contexts, and not specifically aimed toward one topic."
   ]
  },
  {
   "cell_type": "markdown",
   "metadata": {
    "id": "UNC3BCjUTyhb"
   },
   "source": [
    "### Question 5: Pre-processing for text\n",
    "---\n",
    "\n",
    "To improve generalization, it is common to try preprocessing text in various ways before splitting into words. For example, you could try transforming strings to lower case, replacing sequences of numbers with single tokens, removing various non-letter characters, and shortening long words.\n",
    "\n",
    "1. Produce a Logistic Regression model (with no preprocessing of text). **Note that you may need to override the \"default\" preprocessing with an identity function**. Evaluate and show its f1 score and size of the dictionary.\n",
    "1. Produce an improved Logistic Regression model by preprocessing the text. Evaluate and show its f1 score and size of the vocabulary.  Aim for an improvement in f1 score of 0.02. **Note: this is actually very hard**.\n",
    "1. How much did the improved model reduce the vocabulary size?\n",
    "\n",
    "Notes:\n",
    "* Things you can try: ** ???: Anything else we can suggest** \n",
    " - Look at default pre-processing done.\n",
    " - Removing stop words.\n",
    " - Experiment with different ways of getting rid of apostrophe's such as replacing them with spaces or with empty strings.\n",
    "  - Lower casing.\n",
    "  - Including both lowercase and original case versions of a word.\n",
    "  - nltk functions such as stemming.\n",
    "* Train on the \"transformed\" training data, the data after you applied pre-processing.\n",
    "* Evaluate on the transformed development data. Note that you never want to \"learn\" anything from the dev data.\n",
    "* You can use `CountVectorizer(preprocessor=...)` to preprocess strings with your own custom-defined function.\n",
    "* `CountVectorizer` default is to preprocess strings to lower case.\n",
    "* You can use `LogisticRegression(C=0.5, solver=\"liblinear\", multi_class=\"auto\")` to produce a logistic regression model.\n",
    "* You can use `metrics.f1_score(..., average=\"weighted\")` to compute f1 score.\n",
    "* If you're not already familiar with regular expressions for manipulating strings, see https://docs.python.org/2/library/re.html, and re.sub() in particular.\n",
    "* The order you apply pre-processing may produce different results.\n"
   ]
  },
  {
   "cell_type": "code",
   "execution_count": 7,
   "metadata": {
    "id": "3lDatbSPTyhb"
   },
   "outputs": [
    {
     "name": "stdout",
     "output_type": "stream",
     "text": [
      "Nonprocessed data\n",
      "f1 score: 0.7069\n",
      "Vocab size: 33291\n",
      "\n",
      "Processed data\n",
      "f1 score: 0.7221\n",
      "Vocab size: 19656\n",
      "\n",
      "Vocabulary decreased by 13635 words\n"
     ]
    }
   ],
   "source": [
    "def Q5():\n",
    "    ### STUDENT START ###\n",
    "    # No Preprocessing\n",
    "    def empty_function(text):\n",
    "        return text\n",
    "    vectorizer = CountVectorizer(preprocessor=empty_function)\n",
    "    train_transformed = vectorizer.fit_transform(train_data)\n",
    "    dev_transformed = vectorizer.transform(dev_data)\n",
    "    model = LogisticRegression(C=0.5, solver=\"liblinear\", multi_class=\"auto\")\n",
    "    model.fit(train_transformed, train_labels)\n",
    "    predicted_labels = model.predict(dev_transformed) \n",
    "    f1_nonproc = metrics.f1_score(dev_labels, predicted_labels, average=\"weighted\")\n",
    "    nonproc_vocab_size = len(vectorizer.vocabulary_)\n",
    "    print(\"Nonprocessed data\")\n",
    "    print(f\"f1 score: {f1_nonproc:.4}\")\n",
    "    print(f\"Vocab size: {nonproc_vocab_size}\")\n",
    "    \n",
    "    # With Preprocessing\n",
    "    def processing_function(text):\n",
    "        processed_text = text.lower()\n",
    "        processed_text =re.sub(\"\\\\W\",\" \",processed_text)\n",
    "        processed_text =re.sub(\"\\\\s+(in|the|all|for|and|on|was|but|of|i|me|myself|we|our|ours|you|your|he|him|his|she|her|hers|it|they|them|their|what|which|who||this|that|that|these|those|am|is|are|were|been|being|has|had|do|does|did|a|an|if|or|with|about|because|such|as|while|until|at|by|with|into|through|during|before)\\\\s+\",\" _connector_ \",processed_text) # normalize certain words\n",
    "        return processed_text\n",
    "    \n",
    "    analyzer = CountVectorizer().build_analyzer()\n",
    "    ps = nltk.stem.PorterStemmer()\n",
    "\n",
    "    def stemmed_words(doc):\n",
    "        return (ps.stem(w) for w in analyzer(doc))\n",
    "\n",
    "    vectorizer = CountVectorizer(preprocessor=processing_function, analyzer=stemmed_words,max_df=0.35)\n",
    "    train_transformed = vectorizer.fit_transform(train_data)\n",
    "    dev_transformed = vectorizer.transform(dev_data)\n",
    "    model = LogisticRegression(C=0.5, solver=\"liblinear\", multi_class=\"auto\")\n",
    "    model.fit(train_transformed, train_labels)\n",
    "    predicted_labels = model.predict(dev_transformed) \n",
    "    f1_proc = metrics.f1_score(dev_labels, predicted_labels, average=\"weighted\")\n",
    "    proc_vocab_size = len(vectorizer.vocabulary_)\n",
    "\n",
    "    print(\"\\nProcessed data\")\n",
    "    print(f\"f1 score: {f1_proc:.4}\")\n",
    "    print(f\"Vocab size: {proc_vocab_size}\")  \n",
    "    print(f\"\\nVocabulary decreased by {nonproc_vocab_size - proc_vocab_size} words\")\n",
    "    ### STUDENT END ###\n",
    "\n",
    "Q5()"
   ]
  },
  {
   "cell_type": "markdown",
   "metadata": {
    "id": "tLRc7vDBTyhb"
   },
   "source": [
    "### Question 6: L1 and L2 regularization\n",
    "---\n",
    "\n",
    "The idea of regularization is to avoid learning very large weights (which are likely to fit the training data, but not generalize well) by adding a penalty to the total size of the learned weights. Logistic regression seeks the set of weights that minimizes errors in the training data AND has a small total size. The default L2 regularization computes this size as the sum of the squared weights (as in Part 3 above). L1 regularization computes this size as the sum of the absolute values of the weights. Whereas L2 regularization makes all the weights relatively small, **L1 regularization drives many of the weights to 0, effectively removing unimportant features**. For this reason, we can use it as a way to do \"feature selection\".\n",
    "\n",
    "1. For several L1 regularization strengths ...\n",
    "  1. Produce a Logistic Regression model using the **L1** regularization strength.  Reduce the vocabulary to only those features that have at least one non-zero weight among the four categories.\n",
    "  1. Produce a new Logistic Regression model using the reduced vocabulary . For this new model, use an **L2** regularization strength of 0.5.  \n",
    "  1. Evaluate and show the L1 regularization strength, vocabulary size, and f1 score associated with the new model.\n",
    "1. Show a plot of f1 score vs. log vocabulary size.  Each point corresponds to a specific L1 regularization strength used to reduce the vocabulary.\n",
    "1. How does performance of the models based on reduced vocabularies compare to that of a model based on the full vocabulary?\n",
    "\n",
    "Notes:\n",
    "* No need to apply pre-processing from question 5.\n",
    "* Train on the transformed (i.e. CountVectorizer) training data.\n",
    "* Evaluate on the transformed development data (using the CountVectorizer instance you trained on the training data).\n",
    "* You can use `LogisticRegression(..., penalty=\"l1\")` to produce a logistic regression model using L1 regularization.\n",
    "* You can use `LogisticRegression(..., penalty=\"l2\")` to produce a logistic regression model using L2 regularization.\n",
    "* You can use `LogisticRegression(..., tol=0.015)` to produce a logistic regression model using relaxed gradient descent convergence criteria.  The gradient descent code that trains the logistic regression model sometimes has trouble converging with extreme settings of the C parameter. Relax the convergence criteria by setting tol=.015 (the default is .0001).\n",
    "* (solver=\"liblinear\" might be needed for it not to crash)"
   ]
  },
  {
   "cell_type": "code",
   "execution_count": 8,
   "metadata": {
    "id": "7dva_PsvTyhb"
   },
   "outputs": [
    {
     "name": "stdout",
     "output_type": "stream",
     "text": [
      "C = 0.1 -> Vocab size:  218 -> f1 score: 0.69983\n",
      "C = 0.2 -> Vocab size:  367 -> f1 score: 0.68567\n",
      "C = 0.3 -> Vocab size:  520 -> f1 score: 0.67661\n",
      "C = 0.4 -> Vocab size:  673 -> f1 score: 0.68035\n",
      "C = 0.5 -> Vocab size:  752 -> f1 score: 0.6649\n",
      "C = 0.6 -> Vocab size:  836 -> f1 score: 0.6718\n",
      "C = 0.7 -> Vocab size:  933 -> f1 score: 0.67776\n",
      "C = 0.8 -> Vocab size:  959 -> f1 score: 0.67222\n",
      "C = 0.9 -> Vocab size: 1051 -> f1 score: 0.68078\n",
      "C =   1 -> Vocab size: 1099 -> f1 score: 0.69372\n"
     ]
    },
    {
     "data": {
      "image/png": "[encoded data removed]",
      "text/plain": [
       "<Figure size 432x288 with 1 Axes>"
      ]
     },
     "metadata": {
      "needs_background": "light"
     },
     "output_type": "display_data"
    }
   ],
   "source": [
    "def Q6():\n",
    "    # Keep this random seed here to make comparison easier.\n",
    "    np.random.seed(0)\n",
    "\n",
    "    ### STUDENT START ###\n",
    "    l1_strengths = [0.1, 0.2, 0.3, 0.4, 0.5, 0.6, 0.7, 0.8, 0.9, 1]\n",
    "    plotting_list = []\n",
    "    vectorizer = CountVectorizer()\n",
    "    train_transformed = vectorizer.fit_transform(train_data)\n",
    "    dev_transformed = vectorizer.transform(dev_data)\n",
    "    for strength in l1_strengths:\n",
    "        model1 = LogisticRegression(C=strength, solver=\"liblinear\", multi_class=\"auto\", tol=0.015, penalty=\"l1\")\n",
    "        model1.fit(train_transformed, train_labels)\n",
    "        new_vocab_ind = np.any(model1.coef_,axis=0)\n",
    "        new_train_data = train_transformed[:,new_vocab_ind]\n",
    "        new_dev_data = dev_transformed[:,new_vocab_ind]\n",
    "        new_vocab_size = np.count_nonzero(new_vocab_ind)\n",
    "        predicted_labels = model1.predict(dev_transformed) \n",
    "        f1_l1 = metrics.f1_score(dev_labels, predicted_labels, average=\"weighted\")\n",
    "\n",
    "        model2 = LogisticRegression(C=0.5, solver=\"liblinear\", multi_class=\"auto\", tol=0.015, penalty=\"l2\")\n",
    "        model2.fit(new_train_data, train_labels)\n",
    "        predicted_labels = model2.predict(new_dev_data) \n",
    "        f1_l2 = metrics.f1_score(dev_labels, predicted_labels, average=\"weighted\")\n",
    "        vocab_size = len(vectorizer.vocabulary_)\n",
    "        plotting_list.append((f1_l2, new_vocab_size))\n",
    "        print(f\"C = {strength:3} -> Vocab size: {new_vocab_size:4} -> f1 score: {f1_l2:.5}\")\n",
    "    plt.figure()\n",
    "    plt.xlabel(\"f1 score\")\n",
    "    plt.ylabel(\"Log(vocab size)\")\n",
    "    plt.title(\"f1 score vs vocab size with varying l1 strengths\")\n",
    "    for (f1, vocab_size) in plotting_list: \n",
    "        plt.scatter(f1, np.log(vocab_size))\n",
    "    plt.show()\n",
    "    ### STUDENT END ###\n",
    "\n",
    "Q6()"
   ]
  },
  {
   "cell_type": "markdown",
   "metadata": {
    "id": "XbrmPrLaTyhc"
   },
   "source": [
    "ANSWER: The performance of the models based on reduced vocabularies compared to the models based on full vocabulary vary across the different l1 strengths. In most cases, the f1 score is slighter higher for the models based on full vocabularies. This difference is so small in most cases, but the computation requirements are much lower with the reduced vocabularies. The only case when the larger vocabulary performed worse was when C=0.1, so the l1 regularization did not have a lot of pull on the weights."
   ]
  },
  {
   "cell_type": "markdown",
   "metadata": {
    "id": "AQJQimS8Tyhd"
   },
   "source": [
    "### Question 7: TfIdf\n",
    "---\n",
    "As you may recall [tf-idf](https://en.wikipedia.org/wiki/Tf%E2%80%93idf) stands for *term frequency inverse document frequency* and is a way to assign a weight to each word or token signifying their importance for a document in a corpus (a collection of documents).\n",
    "\n",
    "Produce a Logistic Regression model based on data represented in tf-idf form, with L2 regularization strength of 100.  Evaluate and show the f1 score.  How is `TfidfVectorizer` different than `CountVectorizer`?\n",
    "\n",
    "1. How is `TfidfVectorizer` different than `CountVectorizer`?\n",
    "1. Show the 3 documents with highest R ratio, where ...\n",
    "  - $R\\,ratio = maximum\\,predicted\\,probability \\div predicted\\,probability\\,of\\,correct\\,label$\n",
    "1. Explain what the R ratio describes.\n",
    "1. What kinds of mistakes is the model making? Suggest a way to address one particular issue that you see.\n",
    "\n",
    "Note:\n",
    "* Train on the transformed training data.\n",
    "* Evaluate on the transformed development data.\n",
    "* You can use `TfidfVectorizer` and its `.fit_transform` method to transform data to tf-idf form.\n",
    "* You can use `LogisticRegression(C=100, solver=\"liblinear\", multi_class=\"auto\")` to produce a logistic regression model.\n",
    "* You can use `LogisticRegression`'s `.predict_proba` method to access predicted probabilities."
   ]
  },
  {
   "cell_type": "code",
   "execution_count": 9,
   "metadata": {
    "id": "Llsrh11LTyhd"
   },
   "outputs": [
    {
     "name": "stdout",
     "output_type": "stream",
     "text": [
      "f1 score of the model using data in Tfidf form is 0.75977\n",
      "--------------------------------------------------\n",
      "Doc #607 with R ratio: 287.180\n",
      "\n",
      "Message:  TRry the SKywatch project in  Arizona.\n",
      "--------------------------------------------------\n",
      "Doc #665 with R ratio: 325.004\n",
      "\n",
      "Message:  The Vatican library recently made a tour of the US.\n",
      " Can anyone help me in finding a FTP site where this collection is \n",
      " available.\n",
      "--------------------------------------------------\n",
      "Doc #215 with R ratio: 929.358\n",
      "\n",
      "Message:  Hi there,\n",
      "\n",
      "I am here looking for some help.\n",
      "\n",
      "My friend is a interior decor designer. He is from Thailand. He is\n",
      "trying to find some graphics software on PC. Any suggestion on which\n",
      "software to buy,where to buy and how much it costs ? He likes the most\n",
      "sophisticated \n",
      "software(the more features it has,the better)\n"
     ]
    }
   ],
   "source": [
    "def Q7():\n",
    "    ### STUDENT START ###\n",
    "    vectorizer = TfidfVectorizer()\n",
    "    train_transformed = vectorizer.fit_transform(train_data)\n",
    "    dev_transformed = vectorizer.transform(dev_data)\n",
    "    \n",
    "    model = LogisticRegression(C=100, solver=\"liblinear\", multi_class=\"auto\", penalty=\"l2\")\n",
    "    model.fit(train_transformed, train_labels)\n",
    "    predicted_labels = model.predict(dev_transformed)\n",
    "\n",
    "    f1 = metrics.f1_score(dev_labels, predicted_labels, average=\"weighted\")\n",
    "    print(f\"f1 score of the model using data in Tfidf form is {f1:.5f}\")\n",
    "    prob_predictions = model.predict_proba(dev_transformed)\n",
    "    \n",
    "    R_list = []\n",
    "    for count, doc in enumerate(prob_predictions):\n",
    "        label = dev_labels[count]\n",
    "        correct_prediction = doc[label]\n",
    "        highest_prediction = max(doc)\n",
    "        R_val = highest_prediction/correct_prediction\n",
    "        R_list.append(R_val)\n",
    "        \n",
    "    sorted_R = np.argsort(R_list)    \n",
    "    top_3_docs = sorted_R[-3:]\n",
    "    for count, doc_num in enumerate(top_3_docs):\n",
    "        R_val = R_list[doc_num]\n",
    "        print(\"-\"*50)\n",
    "        print(f\"Doc #{doc_num} with R ratio: {R_val:.3f}\")\n",
    "        print(\"\\nMessage: \", dev_data[count])\n",
    "        \n",
    "    ### STUDENT END ###\n",
    "\n",
    "Q7()"
   ]
  },
  {
   "cell_type": "markdown",
   "metadata": {
    "id": "w7SnJ7mTTyhe"
   },
   "source": [
    "ANSWER: The R ratio describes the degree of which the prediction is incorrect. The higher, the R ratio, the higher the predictions confidence in a wrong label.\n",
    "\n",
    "The model is making a mistake when there is not a lot of relevant content for the main topic. Many of the words in these messages correlate with another topic, but there are a few words that set up the rest of the message. Because the majority of the message does not correlate with the correct topic, a min_df parameter could be implemented in the TfidfVectorizer. This will help guide the model away from outliars that are only present in a small percentage of the documents. "
   ]
  },
  {
   "cell_type": "markdown",
   "metadata": {
    "id": "Smtoa6tHTyhf"
   },
   "source": [
    "### Question 8 EXTRA CREDIT:\n",
    "---\n",
    "Produce a Logistic Regression model to implement your suggestion from Part 7."
   ]
  },
  {
   "cell_type": "code",
   "execution_count": 10,
   "metadata": {
    "id": "uCLc-do1Tyhf"
   },
   "outputs": [
    {
     "name": "stdout",
     "output_type": "stream",
     "text": [
      "f1 score of the model using data in Tfidf form is 0.39014\n",
      "--------------------------------------------------\n",
      "Doc #471 with R ratio: 16.272\n",
      "\n",
      "Message:  TRry the SKywatch project in  Arizona.\n",
      "--------------------------------------------------\n",
      "Doc #67 with R ratio: 16.288\n",
      "\n",
      "Message:  The Vatican library recently made a tour of the US.\n",
      " Can anyone help me in finding a FTP site where this collection is \n",
      " available.\n",
      "--------------------------------------------------\n",
      "Doc #507 with R ratio: 16.771\n",
      "\n",
      "Message:  Hi there,\n",
      "\n",
      "I am here looking for some help.\n",
      "\n",
      "My friend is a interior decor designer. He is from Thailand. He is\n",
      "trying to find some graphics software on PC. Any suggestion on which\n",
      "software to buy,where to buy and how much it costs ? He likes the most\n",
      "sophisticated \n",
      "software(the more features it has,the better)\n"
     ]
    }
   ],
   "source": [
    "vectorizer = TfidfVectorizer(min_df=0.4)\n",
    "train_transformed = vectorizer.fit_transform(train_data)\n",
    "dev_transformed = vectorizer.transform(dev_data)\n",
    "\n",
    "model = LogisticRegression(C=100, solver=\"liblinear\", multi_class=\"auto\", penalty=\"l2\")\n",
    "model.fit(train_transformed, train_labels)\n",
    "predicted_labels = model.predict(dev_transformed)\n",
    "\n",
    "f1 = metrics.f1_score(dev_labels, predicted_labels, average=\"weighted\")\n",
    "print(f\"f1 score of the model using data in Tfidf form is {f1:.5f}\")\n",
    "prob_predictions = model.predict_proba(dev_transformed)\n",
    "\n",
    "R_list = []\n",
    "for count, doc in enumerate(prob_predictions):\n",
    "    label = dev_labels[count]\n",
    "    correct_prediction = doc[label]\n",
    "    highest_prediction = max(doc)\n",
    "    R_val = highest_prediction/correct_prediction\n",
    "    R_list.append(R_val)\n",
    "\n",
    "sorted_R = np.argsort(R_list)    \n",
    "top_3_docs = sorted_R[-3:]\n",
    "for count, doc_num in enumerate(top_3_docs):\n",
    "    R_val = R_list[doc_num]\n",
    "    print(\"-\"*50)\n",
    "    print(f\"Doc #{doc_num} with R ratio: {R_val:.3f}\")\n",
    "    print(\"\\nMessage: \", dev_data[count])\n"
   ]
  },
  {
   "cell_type": "markdown",
   "metadata": {},
   "source": [
    "ANSWER: While these predictions are still wrong, the R ratio's are significantly smaller than before. This extra parameter caused the model to be less confident in it's incorrect predicitions."
   ]
  }
 ],
 "metadata": {
  "colab": {
   "collapsed_sections": [],
   "name": "firstname_lastname_project3.ipynb",
   "provenance": []
  },
  "kernelspec": {
   "display_name": "berk",
   "language": "python",
   "name": "berk"
  },
  "language_info": {
   "codemirror_mode": {
    "name": "ipython",
    "version": 3
   },
   "file_extension": ".py",
   "mimetype": "text/x-python",
   "name": "python",
   "nbconvert_exporter": "python",
   "pygments_lexer": "ipython3",
   "version": "3.8.12"
  },
  "toc": {
   "base_numbering": 1,
   "nav_menu": {},
   "number_sections": false,
   "sideBar": true,
   "skip_h1_title": true,
   "title_cell": "Table of Contents",
   "title_sidebar": "Contents",
   "toc_cell": false,
   "toc_position": {},
   "toc_section_display": true,
   "toc_window_display": false
  }
 },
 "nbformat": 4,
 "nbformat_minor": 4
}
